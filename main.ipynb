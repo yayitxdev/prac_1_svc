{
 "cells": [
  {
   "cell_type": "markdown",
   "metadata": {},
   "source": [
    "Jordi Auñon Ansio 1636172  \n",
    "Sistemes de Visió per Computador 2025"
   ]
  },
  {
   "cell_type": "markdown",
   "metadata": {},
   "source": [
    "<div align=\"center\" style=\"text-align: center; font-size: 30px;\">\n",
    "   <strong>Pràctica 1 Sistemes de Visió per Computador</strong>\n",
    "</div>\n"
   ]
  },
  {
   "cell_type": "code",
   "execution_count": 32,
   "metadata": {},
   "outputs": [],
   "source": [
    "import os\n",
    "import cv2\n",
    "import numpy as np\n",
    "import matplotlib.pyplot as plt\n",
    "from PIL import Image\n"
   ]
  },
  {
   "cell_type": "markdown",
   "metadata": {},
   "source": [
    "<div style=\"font-size: 18px;\">\n",
    "   <strong>2.1 Repte 1: Descarregar i visualitzar les imatges a processar</strong>\n",
    "</div>\n"
   ]
  },
  {
   "cell_type": "code",
   "execution_count": 23,
   "metadata": {},
   "outputs": [],
   "source": [
    "def align_photos(dir1_path, dir2_path):\n",
    "    dir1_files = sorted(os.listdir(dir1_path))\n",
    "    dir2_files = sorted(os.listdir(dir2_path))\n",
    "\n",
    "    fig, axes = plt.subplots(len(dir1_files), 2, figsize=(7, len(dir1_files) * 3))  # Adjust size dynamically\n",
    "\n",
    "    for i, (img1, img2) in enumerate(zip(dir1_files, dir2_files)):\n",
    "        if img1 == img2:\n",
    "            original_path = os.path.join(dir1_path, img1)\n",
    "            raw_path = os.path.join(dir2_path, img2)\n",
    "\n",
    "            original = cv2.imread(original_path)\n",
    "            raw = cv2.imread(raw_path)\n",
    "\n",
    "            if original is None or raw is None:\n",
    "                print(f\"Error loading {img1} or {img2}\")\n",
    "                continue\n",
    "\n",
    "            # Convert BGR (OpenCV format) to RGB (Matplotlib format)\n",
    "            original = cv2.cvtColor(original, cv2.COLOR_BGR2RGB)\n",
    "            raw = cv2.cvtColor(raw, cv2.COLOR_BGR2RGB)\n",
    "\n",
    "            # Display images\n",
    "            axes[i, 0].imshow(original)\n",
    "            axes[i, 0].set_title(f\"Original: {img1}\")\n",
    "\n",
    "            axes[i, 1].imshow(raw)\n",
    "            axes[i, 1].set_title(f\"RAW: {img2}\")\n",
    "\n",
    "    plt.tight_layout()\n",
    "    plt.show()\n"
   ]
  },
  {
   "cell_type": "code",
   "execution_count": null,
   "metadata": {},
   "outputs": [],
   "source": [
    "align_photos(\"images/Original\", \"images/Raw\")"
   ]
  },
  {
   "cell_type": "markdown",
   "metadata": {},
   "source": [
    "<div style=\"font-size: 18px;\">\n",
    "   <strong>2.2 Repte 2: Mostra el patró de Bayer de im00.png de manera acolorida</strong>\n",
    "</div>\n"
   ]
  },
  {
   "cell_type": "code",
   "execution_count": 26,
   "metadata": {},
   "outputs": [],
   "source": [
    "import numpy as np\n",
    "import cv2\n",
    "import matplotlib.pyplot as plt\n",
    "\n",
    "def raw_to_rgb(raw_img):\n",
    "    \"\"\"\n",
    "    Converteix una imatge RAW d'un sol canal en una imatge RGB reorganitzada.\n",
    "    \n",
    "    Arguments:\n",
    "    raw_img -- Imatge d'un sol canal (numpy array 2D)\n",
    "\n",
    "    Retorna:\n",
    "    rgb_img -- Imatge RGB amb els píxels distribuïts correctament (numpy array 3D)\n",
    "    \"\"\"\n",
    "    # Verificar que la imatge d'entrada sigui en escala de grisos\n",
    "    if len(raw_img.shape) != 2:\n",
    "        raise ValueError(\"La imatge RAW ha de tenir un sol canal (escala de grisos).\")\n",
    "    \n",
    "    # Obtenir la mida de la imatge\n",
    "    h, w = raw_img.shape\n",
    "\n",
    "    # Crear una imatge RGB inicialitzada a zeros\n",
    "    rgb_img = np.zeros((h, w, 3), dtype=np.uint8)\n",
    "\n",
    "    # Assignar valors als canals R, G, B basant-se en la posició dels píxels\n",
    "    rgb_img[0::2, 0::2, 2] = raw_img[0::2, 0::2]  # Canal Vermell (R)\n",
    "    rgb_img[1::2, 0::2, 1] = raw_img[1::2, 0::2]  # Canal Verd (G) (files imparells, columnes parells)\n",
    "    rgb_img[0::2, 1::2, 1] = raw_img[0::2, 1::2]  # Canal Verd (G) (files parells, columnes imparells)\n",
    "    rgb_img[1::2, 1::2, 0] = raw_img[1::2, 1::2]  # Canal Blau (B)\n",
    "\n",
    "    # Mostrar les imatges amb Matplotlib\n",
    "    fig, axes = plt.subplots(1, 2, figsize=(7, 3))\n",
    "\n",
    "    axes[0].imshow(raw_img, cmap=\"gray\")\n",
    "    axes[0].set_title(\"Imatge RAW (1 Canal)\")\n",
    "\n",
    "    # Mostrar imatge RGB\n",
    "    axes[1].imshow(rgb_img)\n",
    "    axes[1].set_title(\"Imatge RGB Reconstruïda\")\n",
    "\n",
    "    plt.tight_layout()\n",
    "    plt.show()\n",
    "\n",
    "    return rgb_img"
   ]
  },
  {
   "cell_type": "code",
   "execution_count": null,
   "metadata": {},
   "outputs": [],
   "source": [
    "\n",
    "raw_img = cv2.imread(\"images/Raw/im00.png\", cv2.IMREAD_GRAYSCALE)\n",
    "rgb_img = raw_to_rgb(raw_img)"
   ]
  },
  {
   "cell_type": "markdown",
   "metadata": {},
   "source": [
    "<div style=\"font-size: 18px;\">\n",
    "   <strong>2.3 Repte 3: Demosaicing basat en el veí més proper</strong>\n",
    "</div>\n"
   ]
  },
  {
   "cell_type": "code",
   "execution_count": 48,
   "metadata": {},
   "outputs": [
    {
     "data": {
      "image/png": "[encoded data removed]",
      "text/plain": [
       "<Figure size 640x480 with 1 Axes>"
      ]
     },
     "metadata": {},
     "output_type": "display_data"
    }
   ],
   "source": [
    "import numpy as np\n",
    "import matplotlib.pyplot as plt\n",
    "\n",
    "def demosaic_nearest_neighbor(raw_image):\n",
    "    \"\"\"\n",
    "    Aplica demosaicing a una imagen RAW en patrón RGGB usando el método del vecino más próximo.\n",
    "    \n",
    "    Parámetros:\n",
    "        raw_image (numpy.ndarray): Matriz 2D representando la imagen RAW (Bayer RGGB).\n",
    "    \n",
    "    Retorna:\n",
    "        numpy.ndarray: Imagen RGB reconstruida (3 canales).\n",
    "    \"\"\"\n",
    "    # Dimensiones de la imagen\n",
    "    h, w = raw_image.shape\n",
    "    \n",
    "    # Crear una imagen RGB vacía\n",
    "    rgb_image = np.zeros((h, w, 3), dtype=np.uint8)\n",
    "\n",
    "    # Recorrer cada píxel y asignar valores según el patrón RGGB\n",
    "    for i in range(h):\n",
    "        for j in range(w):\n",
    "            if (i % 2 == 0 and j % 2 == 0):  # Píxel Rojo (R)\n",
    "                rgb_image[i, j, 0] = raw_image[i, j]  # R\n",
    "                rgb_image[i, j, 1] = get_nearest(raw_image, i, j, h, w)  # G\n",
    "                rgb_image[i, j, 2] = get_nearest(raw_image, i, j, h, w)  # B\n",
    "\n",
    "            elif (i % 2 == 0 and j % 2 == 1):  # Píxel Verde (G) en fila par\n",
    "                rgb_image[i, j, 0] = get_nearest(raw_image, i, j, h, w)  # R\n",
    "                rgb_image[i, j, 1] = raw_image[i, j]  # G\n",
    "                rgb_image[i, j, 2] = get_nearest(raw_image, i, j, h, w)  # B\n",
    "\n",
    "            elif (i % 2 == 1 and j % 2 == 0):  # Píxel Verde (G) en fila impar\n",
    "                rgb_image[i, j, 0] = get_nearest(raw_image, i, j, h, w)  # R\n",
    "                rgb_image[i, j, 1] = raw_image[i, j]  # G\n",
    "                rgb_image[i, j, 2] = get_nearest(raw_image, i, j, h, w)  # B\n",
    "\n",
    "            else:  # Píxel Azul (B)\n",
    "                rgb_image[i, j, 0] = get_nearest(raw_image, i, j, h, w)  # R\n",
    "                rgb_image[i, j, 1] = get_nearest(raw_image, i, j, h, w)  # G\n",
    "                rgb_image[i, j, 2] = raw_image[i, j]  # B\n",
    "\n",
    "    return rgb_image\n",
    "\n",
    "def get_nearest(image, i, j, h, w):\n",
    "    \"\"\"\n",
    "    Obtiene el valor del vecino más próximo para completar la información en un canal faltante.\n",
    "    \n",
    "    Parámetros:\n",
    "        image (numpy.ndarray): Imagen RAW 2D.\n",
    "        i, j (int): Coordenadas del píxel.\n",
    "        h, w (int): Dimensiones de la imagen.\n",
    "    \n",
    "    Retorna:\n",
    "        int: Valor del vecino más próximo.\n",
    "    \"\"\"\n",
    "    # Lista de posibles vecinos (arriba, abajo, izquierda, derecha)\n",
    "    vecinos = []\n",
    "    \n",
    "    if i > 0: vecinos.append(image[i - 1, j])  # Arriba\n",
    "    if i < h - 1: vecinos.append(image[i + 1, j])  # Abajo\n",
    "    if j > 0: vecinos.append(image[i, j - 1])  # Izquierda\n",
    "    if j < w - 1: vecinos.append(image[i, j + 1])  # Derecha\n",
    "\n",
    "    # Devolver el valor más cercano disponible\n",
    "    return int(np.median(vecinos))\n",
    "\n",
    "# --- Ejemplo de uso ---\n",
    "# Cargar una imagen RAW simulada (debes reemplazar esto con tu imagen real)\n",
    "img = Image.open(\"images/Raw/im00.png\")\n",
    "raw_image = np.array(img)\n",
    "\n",
    "# Aplicar demosaicing\n",
    "rgb_image = demosaic_nearest_neighbor(raw_image)\n",
    "\n",
    "# Mostrar la imagen resultante\n",
    "plt.imshow(rgb_image)\n",
    "plt.axis(\"off\")\n",
    "plt.show()\n"
   ]
  },
  {
   "cell_type": "code",
   "execution_count": null,
   "metadata": {},
   "outputs": [],
   "source": []
  }
 ],
 "metadata": {
  "kernelspec": {
   "display_name": "venv",
   "language": "python",
   "name": "python3"
  },
  "language_info": {
   "codemirror_mode": {
    "name": "ipython",
    "version": 3
   },
   "file_extension": ".py",
   "mimetype": "text/x-python",
   "name": "python",
   "nbconvert_exporter": "python",
   "pygments_lexer": "ipython3",
   "version": "3.12.3"
  }
 },
 "nbformat": 4,
 "nbformat_minor": 2
}
